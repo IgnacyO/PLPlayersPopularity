{
 "cells": [
  {
   "cell_type": "markdown",
   "id": "17543d25-7f79-4716-85db-c3e4541a3493",
   "metadata": {},
   "source": [
    "# PL Players Popularity Prediction model\n",
    "The goal of this project is to predict the number of player's wikipedia page visits base on his age, market value, team score and fpl selection index using linear regression model. \n",
    "\n",
    "*Dataset used in this project comes from the kaggle site: https://www.kaggle.com/datasets/mauryashubham/english-premier-league-players-dataset .*"
   ]
  },
  {
   "cell_type": "markdown",
   "id": "00d13637-e506-4ee7-9465-ceb5c419362b",
   "metadata": {},
   "source": [
    "## 1. Get the data"
   ]
  },
  {
   "cell_type": "markdown",
   "id": "0088115d-10fd-4084-bcd7-ebb4bdd5ace1",
   "metadata": {},
   "source": [
    "### Create project subdirectory for the datasets"
   ]
  },
  {
   "cell_type": "raw",
   "id": "9344f68d-f592-49e0-ba05-f052ff3b7da0",
   "metadata": {
    "scrolled": true
   },
   "source": [
    "# Make directory for the datasets called \"Datasets\"\n",
    "import os\n",
    "datasets_dir = \"Datasets\"\n",
    "os.makedirs(datasets_dir, exist_ok=True)"
   ]
  },
  {
   "cell_type": "markdown",
   "id": "82d42995-8229-4c8f-95dd-c9a58546d6aa",
   "metadata": {},
   "source": [
    "### Download and unzip dataset file\n",
    "*Currently not working because the file must be downloaded using kaggle's api otherwise it is invalid*"
   ]
  },
  {
   "cell_type": "raw",
   "id": "05dffac4-1e89-4f1b-8218-4ce81738dec9",
   "metadata": {},
   "source": [
    "# Download and save the dataset as .zip file\n",
    "dataset_zip_path = os.path.join(data_sets_dir, \"archive.zip\")\n",
    "import requests\n",
    "url = \"https://www.kaggle.com/datasets/mauryashubham/english-premier-league-players-dataset?datasetVersionNumber=1\"\n",
    "result = requests.get(url)\n",
    "with open(dataset_zip_path, \"wb\") as f:\n",
    "    f.write(result.content)"
   ]
  },
  {
   "cell_type": "raw",
   "id": "ec8c4f9c-7e1b-4a2b-89e3-041db6787382",
   "metadata": {},
   "source": [
    "# Unzip downloaded file\n",
    "from zipfile import ZipFile\n",
    "with ZipFile(dataset_zip_path, \"r\") as zf:\n",
    "    zf.extractall(path=datasets_dir)\n",
    "    print(\"Zip extraction finished\")"
   ]
  },
  {
   "cell_type": "markdown",
   "id": "3ffb649a-62b3-45b4-af7a-ca3c6eb59754",
   "metadata": {},
   "source": [
    "## 2. Format the data\n",
    "The model will use only a few selected features: age, club_id(for dataset splitting operation), market value, team score and fpl selection index. The rest of the columns must be dropped."
   ]
  },
  {
   "cell_type": "markdown",
   "id": "84f084bc-fd81-4a97-8015-21cbb49b00ef",
   "metadata": {},
   "source": [
    "### Load the dataset from .csv file"
   ]
  },
  {
   "cell_type": "code",
   "execution_count": 55,
   "id": "5d1a7e20-0ccc-44a4-8a1c-adc6a7eb4b7c",
   "metadata": {},
   "outputs": [
    {
     "data": {
      "text/html": [
       "<div>\n",
       "<style scoped>\n",
       "    .dataframe tbody tr th:only-of-type {\n",
       "        vertical-align: middle;\n",
       "    }\n",
       "\n",
       "    .dataframe tbody tr th {\n",
       "        vertical-align: top;\n",
       "    }\n",
       "\n",
       "    .dataframe thead th {\n",
       "        text-align: right;\n",
       "    }\n",
       "</style>\n",
       "<table border=\"1\" class=\"dataframe\">\n",
       "  <thead>\n",
       "    <tr style=\"text-align: right;\">\n",
       "      <th></th>\n",
       "      <th>name</th>\n",
       "      <th>club</th>\n",
       "      <th>age</th>\n",
       "      <th>position</th>\n",
       "      <th>position_cat</th>\n",
       "      <th>market_value</th>\n",
       "      <th>page_views</th>\n",
       "      <th>fpl_value</th>\n",
       "      <th>fpl_sel</th>\n",
       "      <th>fpl_points</th>\n",
       "      <th>region</th>\n",
       "      <th>nationality</th>\n",
       "      <th>new_foreign</th>\n",
       "      <th>age_cat</th>\n",
       "      <th>club_id</th>\n",
       "      <th>big_club</th>\n",
       "      <th>new_signing</th>\n",
       "    </tr>\n",
       "  </thead>\n",
       "  <tbody>\n",
       "    <tr>\n",
       "      <th>0</th>\n",
       "      <td>Alexis Sanchez</td>\n",
       "      <td>Arsenal</td>\n",
       "      <td>28</td>\n",
       "      <td>LW</td>\n",
       "      <td>1</td>\n",
       "      <td>65.0</td>\n",
       "      <td>4329</td>\n",
       "      <td>12.0</td>\n",
       "      <td>17.10%</td>\n",
       "      <td>264</td>\n",
       "      <td>3.0</td>\n",
       "      <td>Chile</td>\n",
       "      <td>0</td>\n",
       "      <td>4</td>\n",
       "      <td>1</td>\n",
       "      <td>1</td>\n",
       "      <td>0</td>\n",
       "    </tr>\n",
       "    <tr>\n",
       "      <th>1</th>\n",
       "      <td>Mesut Ozil</td>\n",
       "      <td>Arsenal</td>\n",
       "      <td>28</td>\n",
       "      <td>AM</td>\n",
       "      <td>1</td>\n",
       "      <td>50.0</td>\n",
       "      <td>4395</td>\n",
       "      <td>9.5</td>\n",
       "      <td>5.60%</td>\n",
       "      <td>167</td>\n",
       "      <td>2.0</td>\n",
       "      <td>Germany</td>\n",
       "      <td>0</td>\n",
       "      <td>4</td>\n",
       "      <td>1</td>\n",
       "      <td>1</td>\n",
       "      <td>0</td>\n",
       "    </tr>\n",
       "    <tr>\n",
       "      <th>2</th>\n",
       "      <td>Petr Cech</td>\n",
       "      <td>Arsenal</td>\n",
       "      <td>35</td>\n",
       "      <td>GK</td>\n",
       "      <td>4</td>\n",
       "      <td>7.0</td>\n",
       "      <td>1529</td>\n",
       "      <td>5.5</td>\n",
       "      <td>5.90%</td>\n",
       "      <td>134</td>\n",
       "      <td>2.0</td>\n",
       "      <td>Czech Republic</td>\n",
       "      <td>0</td>\n",
       "      <td>6</td>\n",
       "      <td>1</td>\n",
       "      <td>1</td>\n",
       "      <td>0</td>\n",
       "    </tr>\n",
       "    <tr>\n",
       "      <th>3</th>\n",
       "      <td>Theo Walcott</td>\n",
       "      <td>Arsenal</td>\n",
       "      <td>28</td>\n",
       "      <td>RW</td>\n",
       "      <td>1</td>\n",
       "      <td>20.0</td>\n",
       "      <td>2393</td>\n",
       "      <td>7.5</td>\n",
       "      <td>1.50%</td>\n",
       "      <td>122</td>\n",
       "      <td>1.0</td>\n",
       "      <td>England</td>\n",
       "      <td>0</td>\n",
       "      <td>4</td>\n",
       "      <td>1</td>\n",
       "      <td>1</td>\n",
       "      <td>0</td>\n",
       "    </tr>\n",
       "    <tr>\n",
       "      <th>4</th>\n",
       "      <td>Laurent Koscielny</td>\n",
       "      <td>Arsenal</td>\n",
       "      <td>31</td>\n",
       "      <td>CB</td>\n",
       "      <td>3</td>\n",
       "      <td>22.0</td>\n",
       "      <td>912</td>\n",
       "      <td>6.0</td>\n",
       "      <td>0.70%</td>\n",
       "      <td>121</td>\n",
       "      <td>2.0</td>\n",
       "      <td>France</td>\n",
       "      <td>0</td>\n",
       "      <td>4</td>\n",
       "      <td>1</td>\n",
       "      <td>1</td>\n",
       "      <td>0</td>\n",
       "    </tr>\n",
       "  </tbody>\n",
       "</table>\n",
       "</div>"
      ],
      "text/plain": [
       "                name     club  age position  position_cat  market_value  \\\n",
       "0     Alexis Sanchez  Arsenal   28       LW             1          65.0   \n",
       "1         Mesut Ozil  Arsenal   28       AM             1          50.0   \n",
       "2          Petr Cech  Arsenal   35       GK             4           7.0   \n",
       "3       Theo Walcott  Arsenal   28       RW             1          20.0   \n",
       "4  Laurent Koscielny  Arsenal   31       CB             3          22.0   \n",
       "\n",
       "   page_views  fpl_value fpl_sel  fpl_points  region     nationality  \\\n",
       "0        4329       12.0  17.10%         264     3.0           Chile   \n",
       "1        4395        9.5   5.60%         167     2.0         Germany   \n",
       "2        1529        5.5   5.90%         134     2.0  Czech Republic   \n",
       "3        2393        7.5   1.50%         122     1.0         England   \n",
       "4         912        6.0   0.70%         121     2.0          France   \n",
       "\n",
       "   new_foreign  age_cat  club_id  big_club  new_signing  \n",
       "0            0        4        1         1            0  \n",
       "1            0        4        1         1            0  \n",
       "2            0        6        1         1            0  \n",
       "3            0        4        1         1            0  \n",
       "4            0        4        1         1            0  "
      ]
     },
     "execution_count": 55,
     "metadata": {},
     "output_type": "execute_result"
    }
   ],
   "source": [
    "# Load dataset from .csv file as pandas dataframe\n",
    "import pandas as pd\n",
    "players_orig_df = pd.read_csv(\"Datasets/epldata_final.csv\")\n",
    "# Display a first few records\n",
    "players_orig_df.head()"
   ]
  },
  {
   "cell_type": "code",
   "execution_count": 56,
   "id": "ed31b075-b630-4b67-9c75-3ac75d7f308b",
   "metadata": {},
   "outputs": [
    {
     "name": "stdout",
     "output_type": "stream",
     "text": [
      "<class 'pandas.core.frame.DataFrame'>\n",
      "RangeIndex: 461 entries, 0 to 460\n",
      "Data columns (total 17 columns):\n",
      " #   Column        Non-Null Count  Dtype  \n",
      "---  ------        --------------  -----  \n",
      " 0   name          461 non-null    object \n",
      " 1   club          461 non-null    object \n",
      " 2   age           461 non-null    int64  \n",
      " 3   position      461 non-null    object \n",
      " 4   position_cat  461 non-null    int64  \n",
      " 5   market_value  461 non-null    float64\n",
      " 6   page_views    461 non-null    int64  \n",
      " 7   fpl_value     461 non-null    float64\n",
      " 8   fpl_sel       461 non-null    object \n",
      " 9   fpl_points    461 non-null    int64  \n",
      " 10  region        460 non-null    float64\n",
      " 11  nationality   461 non-null    object \n",
      " 12  new_foreign   461 non-null    int64  \n",
      " 13  age_cat       461 non-null    int64  \n",
      " 14  club_id       461 non-null    int64  \n",
      " 15  big_club      461 non-null    int64  \n",
      " 16  new_signing   461 non-null    int64  \n",
      "dtypes: float64(3), int64(9), object(5)\n",
      "memory usage: 61.4+ KB\n"
     ]
    },
    {
     "data": {
      "text/html": [
       "<div>\n",
       "<style scoped>\n",
       "    .dataframe tbody tr th:only-of-type {\n",
       "        vertical-align: middle;\n",
       "    }\n",
       "\n",
       "    .dataframe tbody tr th {\n",
       "        vertical-align: top;\n",
       "    }\n",
       "\n",
       "    .dataframe thead th {\n",
       "        text-align: right;\n",
       "    }\n",
       "</style>\n",
       "<table border=\"1\" class=\"dataframe\">\n",
       "  <thead>\n",
       "    <tr style=\"text-align: right;\">\n",
       "      <th></th>\n",
       "      <th>age</th>\n",
       "      <th>position_cat</th>\n",
       "      <th>market_value</th>\n",
       "      <th>page_views</th>\n",
       "      <th>fpl_value</th>\n",
       "      <th>fpl_points</th>\n",
       "      <th>region</th>\n",
       "      <th>new_foreign</th>\n",
       "      <th>age_cat</th>\n",
       "      <th>club_id</th>\n",
       "      <th>big_club</th>\n",
       "      <th>new_signing</th>\n",
       "    </tr>\n",
       "  </thead>\n",
       "  <tbody>\n",
       "    <tr>\n",
       "      <th>count</th>\n",
       "      <td>461.000000</td>\n",
       "      <td>461.000000</td>\n",
       "      <td>461.000000</td>\n",
       "      <td>461.000000</td>\n",
       "      <td>461.000000</td>\n",
       "      <td>461.000000</td>\n",
       "      <td>460.000000</td>\n",
       "      <td>461.000000</td>\n",
       "      <td>461.000000</td>\n",
       "      <td>461.000000</td>\n",
       "      <td>461.000000</td>\n",
       "      <td>461.000000</td>\n",
       "    </tr>\n",
       "    <tr>\n",
       "      <th>mean</th>\n",
       "      <td>26.804772</td>\n",
       "      <td>2.180043</td>\n",
       "      <td>11.012039</td>\n",
       "      <td>763.776573</td>\n",
       "      <td>5.447939</td>\n",
       "      <td>57.314534</td>\n",
       "      <td>1.993478</td>\n",
       "      <td>0.034707</td>\n",
       "      <td>3.206074</td>\n",
       "      <td>10.334056</td>\n",
       "      <td>0.303688</td>\n",
       "      <td>0.145336</td>\n",
       "    </tr>\n",
       "    <tr>\n",
       "      <th>std</th>\n",
       "      <td>3.961892</td>\n",
       "      <td>1.000061</td>\n",
       "      <td>12.257403</td>\n",
       "      <td>931.805757</td>\n",
       "      <td>1.346695</td>\n",
       "      <td>53.113811</td>\n",
       "      <td>0.957689</td>\n",
       "      <td>0.183236</td>\n",
       "      <td>1.279795</td>\n",
       "      <td>5.726475</td>\n",
       "      <td>0.460349</td>\n",
       "      <td>0.352822</td>\n",
       "    </tr>\n",
       "    <tr>\n",
       "      <th>min</th>\n",
       "      <td>17.000000</td>\n",
       "      <td>1.000000</td>\n",
       "      <td>0.050000</td>\n",
       "      <td>3.000000</td>\n",
       "      <td>4.000000</td>\n",
       "      <td>0.000000</td>\n",
       "      <td>1.000000</td>\n",
       "      <td>0.000000</td>\n",
       "      <td>1.000000</td>\n",
       "      <td>1.000000</td>\n",
       "      <td>0.000000</td>\n",
       "      <td>0.000000</td>\n",
       "    </tr>\n",
       "    <tr>\n",
       "      <th>25%</th>\n",
       "      <td>24.000000</td>\n",
       "      <td>1.000000</td>\n",
       "      <td>3.000000</td>\n",
       "      <td>220.000000</td>\n",
       "      <td>4.500000</td>\n",
       "      <td>5.000000</td>\n",
       "      <td>1.000000</td>\n",
       "      <td>0.000000</td>\n",
       "      <td>2.000000</td>\n",
       "      <td>6.000000</td>\n",
       "      <td>0.000000</td>\n",
       "      <td>0.000000</td>\n",
       "    </tr>\n",
       "    <tr>\n",
       "      <th>50%</th>\n",
       "      <td>27.000000</td>\n",
       "      <td>2.000000</td>\n",
       "      <td>7.000000</td>\n",
       "      <td>460.000000</td>\n",
       "      <td>5.000000</td>\n",
       "      <td>51.000000</td>\n",
       "      <td>2.000000</td>\n",
       "      <td>0.000000</td>\n",
       "      <td>3.000000</td>\n",
       "      <td>10.000000</td>\n",
       "      <td>0.000000</td>\n",
       "      <td>0.000000</td>\n",
       "    </tr>\n",
       "    <tr>\n",
       "      <th>75%</th>\n",
       "      <td>30.000000</td>\n",
       "      <td>3.000000</td>\n",
       "      <td>15.000000</td>\n",
       "      <td>896.000000</td>\n",
       "      <td>5.500000</td>\n",
       "      <td>94.000000</td>\n",
       "      <td>2.000000</td>\n",
       "      <td>0.000000</td>\n",
       "      <td>4.000000</td>\n",
       "      <td>15.000000</td>\n",
       "      <td>1.000000</td>\n",
       "      <td>0.000000</td>\n",
       "    </tr>\n",
       "    <tr>\n",
       "      <th>max</th>\n",
       "      <td>38.000000</td>\n",
       "      <td>4.000000</td>\n",
       "      <td>75.000000</td>\n",
       "      <td>7664.000000</td>\n",
       "      <td>12.500000</td>\n",
       "      <td>264.000000</td>\n",
       "      <td>4.000000</td>\n",
       "      <td>1.000000</td>\n",
       "      <td>6.000000</td>\n",
       "      <td>20.000000</td>\n",
       "      <td>1.000000</td>\n",
       "      <td>1.000000</td>\n",
       "    </tr>\n",
       "  </tbody>\n",
       "</table>\n",
       "</div>"
      ],
      "text/plain": [
       "              age  position_cat  market_value   page_views   fpl_value  \\\n",
       "count  461.000000    461.000000    461.000000   461.000000  461.000000   \n",
       "mean    26.804772      2.180043     11.012039   763.776573    5.447939   \n",
       "std      3.961892      1.000061     12.257403   931.805757    1.346695   \n",
       "min     17.000000      1.000000      0.050000     3.000000    4.000000   \n",
       "25%     24.000000      1.000000      3.000000   220.000000    4.500000   \n",
       "50%     27.000000      2.000000      7.000000   460.000000    5.000000   \n",
       "75%     30.000000      3.000000     15.000000   896.000000    5.500000   \n",
       "max     38.000000      4.000000     75.000000  7664.000000   12.500000   \n",
       "\n",
       "       fpl_points      region  new_foreign     age_cat     club_id  \\\n",
       "count  461.000000  460.000000   461.000000  461.000000  461.000000   \n",
       "mean    57.314534    1.993478     0.034707    3.206074   10.334056   \n",
       "std     53.113811    0.957689     0.183236    1.279795    5.726475   \n",
       "min      0.000000    1.000000     0.000000    1.000000    1.000000   \n",
       "25%      5.000000    1.000000     0.000000    2.000000    6.000000   \n",
       "50%     51.000000    2.000000     0.000000    3.000000   10.000000   \n",
       "75%     94.000000    2.000000     0.000000    4.000000   15.000000   \n",
       "max    264.000000    4.000000     1.000000    6.000000   20.000000   \n",
       "\n",
       "         big_club  new_signing  \n",
       "count  461.000000   461.000000  \n",
       "mean     0.303688     0.145336  \n",
       "std      0.460349     0.352822  \n",
       "min      0.000000     0.000000  \n",
       "25%      0.000000     0.000000  \n",
       "50%      0.000000     0.000000  \n",
       "75%      1.000000     0.000000  \n",
       "max      1.000000     1.000000  "
      ]
     },
     "execution_count": 56,
     "metadata": {},
     "output_type": "execute_result"
    }
   ],
   "source": [
    "# get the overall info and statistics for each feature \n",
    "players_orig_df.info()\n",
    "players_orig_df.describe()"
   ]
  },
  {
   "cell_type": "markdown",
   "id": "38c35332-8fad-4d10-82f7-4c47c3d79ad8",
   "metadata": {},
   "source": [
    "### Edit the dataframe columns\n",
    "Define selected columns and drop non-selected from the dataframe."
   ]
  },
  {
   "cell_type": "code",
   "execution_count": 57,
   "id": "0614c679-0d15-48fa-b2cd-890decd71318",
   "metadata": {},
   "outputs": [
    {
     "data": {
      "text/plain": [
       "Index(['age', 'market_value', 'page_views', 'fpl_sel', 'fpl_points',\n",
       "       'club_id'],\n",
       "      dtype='object')"
      ]
     },
     "execution_count": 57,
     "metadata": {},
     "output_type": "execute_result"
    }
   ],
   "source": [
    "players_orig_df_cols = players_df.columns\n",
    "# Selected columns\n",
    "selected_cols = [\"age\", \"market_value\", \"fpl_points\", \"fpl_sel\", \"page_views\", \"club_id\"]\n",
    "# Drop all the non-sselected columns\n",
    "players_df = players_orig_df.drop(columns=[col for col in players_df_cols if col not in selected_cols])\n",
    "players_df.columns"
   ]
  },
  {
   "cell_type": "code",
   "execution_count": 58,
   "id": "845ab21d-fe7b-44b0-bd8d-e8da33e5001b",
   "metadata": {},
   "outputs": [],
   "source": [
    "%matplotlib inline"
   ]
  },
  {
   "cell_type": "markdown",
   "id": "6d000369-5558-4067-b252-ae0b96a15876",
   "metadata": {},
   "source": [
    "### Format non-numeric columns\n",
    "Convert values for the 'fpl_sel' column from string representation of a percentage to a float value"
   ]
  },
  {
   "cell_type": "code",
   "execution_count": 59,
   "id": "b68ed8cc-ec53-46cc-aaa0-01c3dfefab8f",
   "metadata": {},
   "outputs": [],
   "source": [
    "# Remove '%' char from a string values for 'fpl_sel' column\n",
    "players_df['fpl_sel'] = players_df['fpl_sel'].str.replace(\"%\", \"\")\n",
    "# Convert the column type to float\n",
    "players_df['fpl_sel'] = players_df['fpl_sel'].astype(float)"
   ]
  },
  {
   "cell_type": "markdown",
   "id": "5b48cea6-19b5-46e7-a379-0ee05293c75a",
   "metadata": {},
   "source": [
    "### Histograms for the dataset"
   ]
  },
  {
   "cell_type": "code",
   "execution_count": 60,
   "id": "91b23f52-6556-44f8-bf39-dc95f89b52f0",
   "metadata": {},
   "outputs": [
    {
     "data": {
      "text/plain": [
       "array([[<Axes: title={'center': 'age'}>,\n",
       "        <Axes: title={'center': 'market_value'}>],\n",
       "       [<Axes: title={'center': 'page_views'}>,\n",
       "        <Axes: title={'center': 'fpl_sel'}>],\n",
       "       [<Axes: title={'center': 'fpl_points'}>,\n",
       "        <Axes: title={'center': 'club_id'}>]], dtype=object)"
      ]
     },
     "execution_count": 60,
     "metadata": {},
     "output_type": "execute_result"
    },
    {
     "data": {
      "image/png": "[encoded data removed]",
      "text/plain": [
       "<Figure size 1500x1500 with 6 Axes>"
      ]
     },
     "metadata": {},
     "output_type": "display_data"
    }
   ],
   "source": [
    "players_df.hist(bins=10, figsize=(15, 15), color=\"black\") # bins = column width on a histogram"
   ]
  },
  {
   "cell_type": "markdown",
   "id": "5d76d0db-0c64-4206-8a57-56539d9f81fd",
   "metadata": {},
   "source": [
    "## 3. Split datasets\n",
    "Split the dataset into training subset and test subset using stratisfied split method based on 'club_id' column"
   ]
  },
  {
   "cell_type": "code",
   "execution_count": 61,
   "id": "eb715ebe-d5de-4994-8170-5c86e4e018a5",
   "metadata": {},
   "outputs": [
    {
     "name": "stdout",
     "output_type": "stream",
     "text": [
      "Proportions of players in clubs in the test subset \n"
     ]
    },
    {
     "data": {
      "text/plain": [
       "club_id\n",
       "1     0.064748\n",
       "7     0.057554\n",
       "16    0.057554\n",
       "12    0.057554\n",
       "10    0.057554\n",
       "8     0.057554\n",
       "14    0.050360\n",
       "9     0.050360\n",
       "20    0.050360\n",
       "2     0.050360\n",
       "3     0.050360\n",
       "15    0.050360\n",
       "18    0.050360\n",
       "11    0.043165\n",
       "19    0.043165\n",
       "13    0.043165\n",
       "5     0.043165\n",
       "17    0.043165\n",
       "6     0.043165\n",
       "4     0.035971\n",
       "Name: count, dtype: float64"
      ]
     },
     "execution_count": 61,
     "metadata": {},
     "output_type": "execute_result"
    }
   ],
   "source": [
    "from sklearn.model_selection import StratifiedShuffleSplit\n",
    "# Create stratified shuffle split object with a single split and train to test ratio 7/3\n",
    "dataset_split = StratifiedShuffleSplit(n_splits=1, test_size=0.3, random_state=30)\n",
    "for train_index, test_index in dataset_split.split(players_df, players_df['club_id']):\n",
    "    strat_train_subset = players_df.loc[train_index]\n",
    "    strat_test_subset = players_df.loc[test_index]\n",
    "# Print proportions for the test subset\n",
    "print(\"Proportions of players in clubs in the test subset \")\n",
    "strat_test_subset['club_id'].value_counts()/len(strat_test_subset)"
   ]
  },
  {
   "cell_type": "code",
   "execution_count": 62,
   "id": "5acf711d-4274-47b8-b978-e09cc9fe50fe",
   "metadata": {},
   "outputs": [
    {
     "name": "stdout",
     "output_type": "stream",
     "text": [
      "Proportions of players in clubs in the dataset\n"
     ]
    },
    {
     "data": {
      "text/plain": [
       "club_id\n",
       "1     0.060738\n",
       "8     0.060738\n",
       "7     0.060738\n",
       "10    0.058568\n",
       "16    0.054230\n",
       "12    0.054230\n",
       "2     0.052061\n",
       "9     0.052061\n",
       "18    0.052061\n",
       "14    0.049892\n",
       "20    0.047722\n",
       "3     0.047722\n",
       "15    0.047722\n",
       "6     0.045553\n",
       "13    0.045553\n",
       "11    0.043384\n",
       "17    0.043384\n",
       "5     0.043384\n",
       "19    0.041215\n",
       "4     0.039046\n",
       "Name: count, dtype: float64"
      ]
     },
     "execution_count": 62,
     "metadata": {},
     "output_type": "execute_result"
    }
   ],
   "source": [
    "# Print proportions for the dataset\n",
    "print(\"Proportions of players in clubs in the dataset\")\n",
    "players_df['club_id'].value_counts()/len(players_df)"
   ]
  },
  {
   "cell_type": "markdown",
   "id": "42a49e4e-33ac-4a14-9fe1-f3b3f8af6a21",
   "metadata": {},
   "source": [
    "### Checking the correlation matrix for the number of page views"
   ]
  },
  {
   "cell_type": "code",
   "execution_count": 63,
   "id": "56f4db74-c58b-4be7-b302-ad5e6cf6dafd",
   "metadata": {},
   "outputs": [
    {
     "data": {
      "text/plain": [
       "age            -0.066955\n",
       "market_value    0.806276\n",
       "page_views      1.000000\n",
       "fpl_sel         0.564034\n",
       "fpl_points      0.601222\n",
       "club_id        -0.061778\n",
       "Name: page_views, dtype: float64"
      ]
     },
     "execution_count": 63,
     "metadata": {},
     "output_type": "execute_result"
    }
   ],
   "source": [
    "# Correlation matrix for the training subset\n",
    "correlation_matrix = strat_train_subset.corr()\n",
    "# Correlation matrix for the page_views feature in the training subset\n",
    "correlation_matrix['page_views']"
   ]
  },
  {
   "cell_type": "markdown",
   "id": "91783a9b-d1d7-4847-a2aa-32de02f2fc2e",
   "metadata": {},
   "source": [
    "## 4. Create model\n",
    "Using sci-kit learn create linear regression model to predict the number of wikipedia page views of a player"
   ]
  },
  {
   "cell_type": "markdown",
   "id": "453b08f5-7dca-4b29-af98-81e233160ea6",
   "metadata": {},
   "source": [
    "### Fit data into linear regression function"
   ]
  },
  {
   "cell_type": "code",
   "execution_count": 64,
   "id": "3d9c31c5-65ba-49d3-8182-baebf12c5e28",
   "metadata": {},
   "outputs": [
    {
     "name": "stdout",
     "output_type": "stream",
     "text": [
      "The omega values calculated using scikit learn Linear Regression 68.77134119728146 [-1.08109409 45.5208314  14.80336272  2.3459372 ]\n"
     ]
    }
   ],
   "source": [
    "# isolate numerical values and drop label feature\n",
    "train_subset_num = strat_train_subset.drop(columns=[\"club_id\", \"page_views\"])\n",
    "# isolate label feature\n",
    "label = strat_train_subset[\"page_views\"]\n",
    "from sklearn.linear_model import LinearRegression\n",
    "model = LinearRegression()\n",
    "model.fit(train_subset_num, label)\n",
    "print(\"The omega values calculated using scikit learn Linear Regression\", model.intercept_, model.coef_)"
   ]
  },
  {
   "cell_type": "markdown",
   "id": "742e285a-72dc-4960-91b3-ce4b37448bdf",
   "metadata": {},
   "source": [
    "### Find the MSE of the linear regression in the training subset"
   ]
  },
  {
   "cell_type": "code",
   "execution_count": 65,
   "id": "e38255fa-99c1-4406-8316-26857a64fe8e",
   "metadata": {},
   "outputs": [
    {
     "name": "stdout",
     "output_type": "stream",
     "text": [
      "Mean_squared_error on the training set= 257140.57136099142\n",
      "Root_mean_squared_error on the training set= 507.09029902078726\n"
     ]
    }
   ],
   "source": [
    "from sklearn.metrics import mean_squared_error\n",
    "predicted_popularity_training = model.predict(train_subset_num)\n",
    "mse_train = mean_squared_error(label, predicted_popularity_training)\n",
    "print(\"Mean_squared_error in the training set=\", mse_train)\n",
    "import numpy as np\n",
    "# find the square root of the mean squared error\n",
    "root_mean_squared_error_train = np.sqrt(mse_train)\n",
    "print(\"Root_mean_squared_error in the training set=\", root_mean_squared_error_train)"
   ]
  }
 ],
 "metadata": {
  "kernelspec": {
   "display_name": "Python 3 (ipykernel)",
   "language": "python",
   "name": "python3"
  },
  "language_info": {
   "codemirror_mode": {
    "name": "ipython",
    "version": 3
   },
   "file_extension": ".py",
   "mimetype": "text/x-python",
   "name": "python",
   "nbconvert_exporter": "python",
   "pygments_lexer": "ipython3",
   "version": "3.12.5"
  }
 },
 "nbformat": 4,
 "nbformat_minor": 5
}
